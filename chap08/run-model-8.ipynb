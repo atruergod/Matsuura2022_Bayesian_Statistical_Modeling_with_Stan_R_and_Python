{
 "cells": [
  {
   "cell_type": "code",
   "execution_count": 25,
   "id": "770b31f6",
   "metadata": {},
   "outputs": [],
   "source": [
    "import pandas as pd\n",
    "from cmdstanpy import CmdStanModel\n",
    "\n",
    "# Read the CSV data\n",
    "df = pd.read_csv('input/data-salary-2.csv')\n",
    "df.head()\n",
    "\n",
    "stan_data = {\n",
    "    'N': len(df),\n",
    "    'C': df['CID'].nunique(),\n",
    "    'X': df['X'].values,\n",
    "    'Y': df['Y'].values,\n",
    "    'n2c': df['CID'].values\n",
    "}"
   ]
  },
  {
   "cell_type": "code",
   "execution_count": 26,
   "id": "ac789a53",
   "metadata": {},
   "outputs": [
    {
     "name": "stdout",
     "output_type": "stream",
     "text": [
      "data {\n",
      "  int N;\n",
      "  vector[N] X;\n",
      "  vector[N] Y;\n",
      "}\n",
      "\n",
      "parameters {\n",
      "  real a;\n",
      "  real b;\n",
      "  real<lower=0> s_y;\n",
      "}\n",
      "\n",
      "model {\n",
      "  Y[1:N] ~ normal(a + b*X[1:N], s_y);\n",
      "}\n",
      "\n"
     ]
    }
   ],
   "source": [
    "stan_file = 'model/model8-1.stan'\n",
    "with open(stan_file, 'r') as f:\n",
    "    print(f.read())"
   ]
  },
  {
   "cell_type": "code",
   "execution_count": 32,
   "id": "bec2a695",
   "metadata": {},
   "outputs": [
    {
     "name": "stderr",
     "output_type": "stream",
     "text": [
      "14:30:06 - cmdstanpy - INFO - CmdStan start processing\n",
      "chain 1 |\u001b[33m          \u001b[0m| 00:00 Status\n",
      "\u001b[A\n",
      "\n",
      "chain 1 |\u001b[34m██████████\u001b[0m| 00:00 Sampling completed\n",
      "chain 2 |\u001b[34m██████████\u001b[0m| 00:00 Sampling completed\n",
      "chain 3 |\u001b[34m██████████\u001b[0m| 00:00 Sampling completed\n",
      "chain 4 |\u001b[34m██████████\u001b[0m| 00:00 Sampling completed"
     ]
    },
    {
     "name": "stdout",
     "output_type": "stream",
     "text": [
      "                                                                                                                                                                                                                                                                                                                                "
     ]
    },
    {
     "name": "stderr",
     "output_type": "stream",
     "text": [
      "\n",
      "14:30:06 - cmdstanpy - INFO - CmdStan done processing.\n"
     ]
    },
    {
     "name": "stdout",
     "output_type": "stream",
     "text": [
      "\n"
     ]
    }
   ],
   "source": [
    "# Prepare the Stan model\n",
    "stan_model = CmdStanModel(stan_file=stan_file)\n",
    "fit = stan_model.sample(data=stan_data)"
   ]
  },
  {
   "cell_type": "code",
   "execution_count": 45,
   "id": "c2ace48a",
   "metadata": {},
   "outputs": [
    {
     "name": "stdout",
     "output_type": "stream",
     "text": [
      "               a         b       s_y\n",
      "0.025  32.624705  0.830763  5.463993\n",
      "0.975  42.372145  1.385567  8.520984\n",
      "a: mean: 37.60, 95% CI: [32.62, 42.37]\n",
      "b: mean: 1.11, 95% CI: [0.83, 1.39]\n",
      "s_y: mean: 6.84, 95% CI: [5.46, 8.52]\n"
     ]
    }
   ],
   "source": [
    "quantile_pairs = samples_df[['a', 'b', 's_y']].quantile([0.025, 0.975])\n",
    "print(quantile_pairs)\n",
    "for param in ['a', 'b', 's_y']:\n",
    "    print(f\"{param}: mean: {samples_df[param].mean():.2f}, 95% CI: [{quantile_pairs.loc[0.025, param]:.2f}, {quantile_pairs.loc[0.975, param]:.2f}]\")"
   ]
  },
  {
   "cell_type": "markdown",
   "id": "67f15c45",
   "metadata": {},
   "source": [
    "---"
   ]
  },
  {
   "cell_type": "code",
   "execution_count": 46,
   "id": "9f46ed08",
   "metadata": {},
   "outputs": [
    {
     "name": "stdout",
     "output_type": "stream",
     "text": [
      "data {\n",
      "  int N;\n",
      "  int C;\n",
      "  vector[N] X;\n",
      "  vector[N] Y;\n",
      "  array[N] int<lower=1, upper=C> n2c;\n",
      "}\n",
      "\n",
      "parameters {\n",
      "  vector[C] a;\n",
      "  vector[C] b;\n",
      "  real<lower=0> s_y;\n",
      "}\n",
      "\n",
      "model {\n",
      "  Y[1:N] ~ normal(a[n2c] + b[n2c] .* X[1:N], s_y);\n",
      "}\n",
      "\n"
     ]
    }
   ],
   "source": [
    "stan_file = 'model/model8-2.stan'\n",
    "with open(stan_file, 'r') as f:\n",
    "    print(f.read())"
   ]
  },
  {
   "cell_type": "code",
   "execution_count": 50,
   "id": "40b46bda",
   "metadata": {},
   "outputs": [
    {
     "name": "stderr",
     "output_type": "stream",
     "text": [
      "14:42:10 - cmdstanpy - INFO - CmdStan start processing\n",
      "chain 1 |\u001b[33m          \u001b[0m| 00:00 Status\n",
      "\u001b[A\n",
      "\n",
      "chain 1 |\u001b[33m████      \u001b[0m| 00:00 Iteration:  700 / 2000 [ 35%]  (Warmup)\n",
      "\n",
      "\u001b[A\u001b[A\n",
      "chain 1 |\u001b[34m█████████▌\u001b[0m| 00:00 Iteration: 1800 / 2000 [ 90%]  (Sampling)\n",
      "\n",
      "\u001b[A\u001b[A\n",
      "chain 1 |\u001b[34m██████████\u001b[0m| 00:00 Sampling completed                       \n",
      "chain 2 |\u001b[34m██████████\u001b[0m| 00:00 Sampling completed                       \n",
      "chain 3 |\u001b[34m██████████\u001b[0m| 00:00 Sampling completed                       \n",
      "chain 4 |\u001b[34m██████████\u001b[0m| 00:00 Sampling completed                       "
     ]
    },
    {
     "name": "stdout",
     "output_type": "stream",
     "text": [
      "                                                                                                                                                                                                                                                                                                                                "
     ]
    },
    {
     "name": "stderr",
     "output_type": "stream",
     "text": [
      "\n",
      "14:42:10 - cmdstanpy - INFO - CmdStan done processing.\n"
     ]
    },
    {
     "name": "stdout",
     "output_type": "stream",
     "text": [
      "\n"
     ]
    }
   ],
   "source": [
    "# Prepare the Stan model\n",
    "stan_model = CmdStanModel(stan_file=stan_file)\n",
    "fit = stan_model.sample(data=stan_data)\n",
    "samples_df = fit.draws_pd()"
   ]
  },
  {
   "cell_type": "code",
   "execution_count": 52,
   "id": "f3cb9eaf",
   "metadata": {},
   "outputs": [
    {
     "name": "stdout",
     "output_type": "stream",
     "text": [
      "a[1]: mean: 38.71, 95% CI: [36.07, 41.38]\n",
      "a[2]: mean: 32.87, 95% CI: [29.65, 36.14]\n",
      "a[3]: mean: 31.48, 95% CI: [24.68, 38.25]\n",
      "a[4]: mean: 74.79, 95% CI: [41.13, 106.64]\n",
      "b[1]: mean: 0.75, 95% CI: [0.58, 0.92]\n",
      "b[2]: mean: 1.99, 95% CI: [1.75, 2.23]\n",
      "b[3]: mean: 1.24, 95% CI: [0.91, 1.58]\n",
      "b[4]: mean: -0.09, 95% CI: [-1.38, 1.25]\n",
      "s_y: mean: 2.73, 95% CI: [2.12, 3.54]\n"
     ]
    }
   ],
   "source": [
    "quantile_pairs = samples_df[['a[1]', 'a[2]', 'a[3]', 'a[4]', 'b[1]', 'b[2]', 'b[3]', 'b[4]', 's_y']].quantile([0.025, 0.975])\n",
    "# print(quantile_pairs)\n",
    "for param in ['a[1]', 'a[2]', 'a[3]', 'a[4]', 'b[1]', 'b[2]', 'b[3]', 'b[4]', 's_y']:\n",
    "    mean_val = samples_df[param].mean()\n",
    "    ci_low = quantile_pairs.loc[0.025, param]\n",
    "    ci_high = quantile_pairs.loc[0.975, param]\n",
    "    print(f\"{param}: mean: {mean_val:.2f}, 95% CI: [{ci_low:.2f}, {ci_high:.2f}]\")"
   ]
  },
  {
   "cell_type": "markdown",
   "id": "6a83a240",
   "metadata": {},
   "source": [
    "---"
   ]
  },
  {
   "cell_type": "code",
   "execution_count": 54,
   "id": "87c2a1a7",
   "metadata": {},
   "outputs": [
    {
     "name": "stdout",
     "output_type": "stream",
     "text": [
      "data {\n",
      "  int N;\n",
      "  int C;\n",
      "  vector[N] X;\n",
      "  vector[N] Y;\n",
      "  array[N] int<lower=1, upper=C> n2c;\n",
      "}\n",
      "\n",
      "parameters {\n",
      "  real a_field;\n",
      "  real b_field;\n",
      "  vector[C] a_diff;\n",
      "  vector[C] b_diff;\n",
      "  real<lower=0> s_a;\n",
      "  real<lower=0> s_b;\n",
      "  real<lower=0> s_y;\n",
      "}\n",
      "\n",
      "transformed parameters {\n",
      "  vector[C] a = a_field + a_diff[1:C];\n",
      "  vector[C] b = b_field + b_diff[1:C];\n",
      "}\n",
      "\n",
      "model {\n",
      "  a_diff[1:C] ~ normal(0, s_a);\n",
      "  b_diff[1:C] ~ normal(0, s_b);\n",
      "  Y[1:N] ~ normal(a[n2c] + b[n2c] .* X[1:N], s_y);\n",
      "}\n",
      "\n"
     ]
    }
   ],
   "source": [
    "# Hierarchical Model\n",
    "stan_file = 'model/model8-3.stan'\n",
    "with open(stan_file, 'r') as f:\n",
    "    print(f.read())"
   ]
  },
  {
   "cell_type": "code",
   "execution_count": 55,
   "id": "8cad6d86",
   "metadata": {},
   "outputs": [
    {
     "name": "stderr",
     "output_type": "stream",
     "text": [
      "14:44:28 - cmdstanpy - INFO - CmdStan start processing\n",
      "chain 1 |\u001b[33m          \u001b[0m| 00:00 Status\n",
      "\u001b[A\n",
      "\n",
      "\u001b[A\u001b[A\n",
      "\n",
      "chain 1 |\u001b[33m▉         \u001b[0m| 00:00 Iteration:    1 / 2000 [  0%]  (Warmup)\n",
      "chain 1 |\u001b[33m█▊        \u001b[0m| 00:00 Iteration:  200 / 2000 [ 10%]  (Warmup)\n",
      "\u001b[A\n",
      "\n",
      "chain 1 |\u001b[33m███▏      \u001b[0m| 00:00 Iteration:  500 / 2000 [ 25%]  (Warmup)\n",
      "\u001b[A\n",
      "\n",
      "chain 1 |\u001b[34m█████▉    \u001b[0m| 00:00 Iteration: 1001 / 2000 [ 50%]  (Sampling)\n",
      "\n",
      "\u001b[A\u001b[A\n",
      "chain 1 |\u001b[34m███████▋  \u001b[0m| 00:00 Iteration: 1400 / 2000 [ 70%]  (Sampling)\n",
      "\u001b[A\n",
      "\n",
      "chain 1 |\u001b[34m█████████▌\u001b[0m| 00:00 Iteration: 1800 / 2000 [ 90%]  (Sampling)\n",
      "\u001b[A\n",
      "\n",
      "chain 1 |\u001b[34m██████████\u001b[0m| 00:00 Sampling completed                       \n",
      "chain 2 |\u001b[34m██████████\u001b[0m| 00:00 Sampling completed                       \n",
      "chain 3 |\u001b[34m██████████\u001b[0m| 00:00 Sampling completed                       \n",
      "chain 4 |\u001b[34m██████████\u001b[0m| 00:00 Sampling completed                       "
     ]
    },
    {
     "name": "stdout",
     "output_type": "stream",
     "text": [
      "                                                                                                                                                                                                                                                                                                                                "
     ]
    },
    {
     "name": "stderr",
     "output_type": "stream",
     "text": [
      "\n",
      "14:44:29 - cmdstanpy - INFO - CmdStan done processing.\n",
      "14:44:29 - cmdstanpy - WARNING - Some chains may have failed to converge.\n",
      "\tChain 1 had 1 iterations at max treedepth (0.1%)\n",
      "\tChain 2 had 1 divergent transitions (0.1%)\n",
      "\tChain 2 had 1 iterations at max treedepth (0.1%)\n",
      "\tUse the \"diagnose()\" method on the CmdStanMCMC object to see further information.\n"
     ]
    },
    {
     "name": "stdout",
     "output_type": "stream",
     "text": [
      "\n"
     ]
    }
   ],
   "source": [
    "# Prepare the Stan model\n",
    "stan_model = CmdStanModel(stan_file=stan_file)\n",
    "fit = stan_model.sample(data=stan_data)\n",
    "samples_df = fit.draws_pd()"
   ]
  },
  {
   "cell_type": "code",
   "execution_count": 59,
   "id": "a4a70d3c",
   "metadata": {},
   "outputs": [
    {
     "name": "stdout",
     "output_type": "stream",
     "text": [
      "a_field: mean: 38.65, 95% CI: [21.26, 65.47]\n",
      "b_field: mean: 1.24, 95% CI: [-0.47, 2.90]\n",
      "s_a: mean: 14.77, 95% CI: [1.22, 60.07]\n",
      "s_b: mean: 1.19, 95% CI: [0.31, 4.40]\n",
      "s_y: mean: 2.87, 95% CI: [2.20, 3.73]\n"
     ]
    }
   ],
   "source": [
    "quantile_pairs = samples_df[['a_field', 'b_field', 's_a', 's_b', 's_y']].quantile([0.025, 0.975])\n",
    "for param in ['a_field', 'b_field', 's_a', 's_b', 's_y']:\n",
    "    mean_val = samples_df[param].mean()\n",
    "    ci_low = quantile_pairs.loc[0.025, param]\n",
    "    ci_high = quantile_pairs.loc[0.975, param]\n",
    "    print(f\"{param}: mean: {mean_val:.2f}, 95% CI: [{ci_low:.2f}, {ci_high:.2f}]\")"
   ]
  },
  {
   "cell_type": "code",
   "execution_count": null,
   "id": "34e5354d",
   "metadata": {},
   "outputs": [
    {
     "name": "stdout",
     "output_type": "stream",
     "text": [
      "a_field: median: 36.7, 95% CI: [13.9, 60.7]\n",
      "b_field: median: 1.2, 95% CI: [-0.4, 2.8]\n",
      "s_a: median: 9.6, 95% CI: [1.4, 76.4]\n",
      "s_b: median: 0.8, 95% CI: [0.3, 4.6]\n",
      "s_y: median: 2.8, 95% CI: [2.2, 3.8]\n"
     ]
    }
   ],
   "source": [
    "quantile_pairs = samples_df[['a_field', 'b_field', 's_a', 's_b', 's_y']].quantile([0.025, 0.975])\n",
    "for param in ['a_field', 'b_field', 's_a', 's_b', 's_y']:\n",
    "    mean_val = samples_df[param].median()\n",
    "    ci_low = quantile_pairs.loc[0.025, param]\n",
    "    ci_high = quantile_pairs.loc[0.975, param]\n",
    "    print(f\"{param}: median: {mean_val:.1f}, 95% CI: [{ci_low:.1f}, {ci_high:.1f}]\")"
   ]
  },
  {
   "cell_type": "markdown",
   "id": "ffc872c9",
   "metadata": {},
   "source": [
    "---"
   ]
  },
  {
   "cell_type": "code",
   "execution_count": 60,
   "id": "d2c638bd",
   "metadata": {},
   "outputs": [
    {
     "name": "stdout",
     "output_type": "stream",
     "text": [
      "data {\n",
      "  int N;\n",
      "  int C;\n",
      "  vector[N] X;\n",
      "  vector[N] Y;\n",
      "  array[N] int<lower=1, upper=C> n2c;\n",
      "}\n",
      "\n",
      "parameters {\n",
      "  real a_field;\n",
      "  real b_field;\n",
      "  vector[C] a;\n",
      "  vector[C] b;\n",
      "  real<lower=0> s_a;\n",
      "  real<lower=0> s_b;\n",
      "  real<lower=0> s_y;\n",
      "}\n",
      "\n",
      "model {\n",
      "  a[1:C] ~ normal(a_field, s_a);\n",
      "  b[1:C] ~ normal(b_field, s_b);\n",
      "  Y[1:N] ~ normal(a[n2c] + b[n2c] .* X[1:N], s_y);\n",
      "}\n",
      "\n"
     ]
    }
   ],
   "source": [
    "# Hierarchical Model\n",
    "stan_file = 'model/model8-4.stan'\n",
    "with open(stan_file, 'r') as f:\n",
    "    print(f.read())"
   ]
  },
  {
   "cell_type": "code",
   "execution_count": 61,
   "id": "1f0fc388",
   "metadata": {},
   "outputs": [
    {
     "name": "stderr",
     "output_type": "stream",
     "text": [
      "14:48:53 - cmdstanpy - INFO - CmdStan start processing\n",
      "chain 1 |\u001b[33m          \u001b[0m| 00:00 Status\n",
      "\u001b[A\n",
      "\n",
      "\u001b[A\u001b[A\n",
      "chain 1 |\u001b[33m██▋       \u001b[0m| 00:00 Iteration:  400 / 2000 [ 20%]  (Warmup)\n",
      "\n",
      "\u001b[A\u001b[A\n",
      "chain 1 |\u001b[34m████████▏ \u001b[0m| 00:00 Iteration: 1500 / 2000 [ 75%]  (Sampling)\n",
      "\n",
      "chain 1 |\u001b[34m██████████\u001b[0m| 00:00 Sampling completed                       \n",
      "chain 2 |\u001b[34m██████████\u001b[0m| 00:00 Sampling completed                       \n",
      "chain 3 |\u001b[34m██████████\u001b[0m| 00:00 Sampling completed                       \n",
      "chain 4 |\u001b[34m██████████\u001b[0m| 00:00 Sampling completed                       "
     ]
    },
    {
     "name": "stdout",
     "output_type": "stream",
     "text": [
      "                                                                                                                                                                                                                                                                                                                                "
     ]
    },
    {
     "name": "stderr",
     "output_type": "stream",
     "text": [
      "\n",
      "14:48:53 - cmdstanpy - INFO - CmdStan done processing.\n",
      "14:48:53 - cmdstanpy - WARNING - Some chains may have failed to converge.\n",
      "\tChain 1 had 6 divergent transitions (0.6%)\n",
      "\tChain 2 had 2 divergent transitions (0.2%)\n",
      "\tChain 4 had 23 divergent transitions (2.3%)\n",
      "\tUse the \"diagnose()\" method on the CmdStanMCMC object to see further information.\n"
     ]
    },
    {
     "name": "stdout",
     "output_type": "stream",
     "text": [
      "\n"
     ]
    }
   ],
   "source": [
    "# Prepare the Stan model\n",
    "stan_model = CmdStanModel(stan_file=stan_file)\n",
    "fit = stan_model.sample(data=stan_data)\n",
    "samples_df = fit.draws_pd()"
   ]
  },
  {
   "cell_type": "code",
   "execution_count": 65,
   "id": "f18f09c6",
   "metadata": {},
   "outputs": [
    {
     "name": "stdout",
     "output_type": "stream",
     "text": [
      "a_field: median: 36.7, 95% CI: [13.9, 60.7]\n",
      "b_field: median: 1.2, 95% CI: [-0.4, 2.8]\n",
      "s_a: median: 9.6, 95% CI: [1.4, 76.4]\n",
      "s_b: median: 0.8, 95% CI: [0.3, 4.6]\n",
      "s_y: median: 2.8, 95% CI: [2.2, 3.8]\n"
     ]
    }
   ],
   "source": [
    "quantile_pairs = samples_df[['a_field', 'b_field', 's_a', 's_b', 's_y']].quantile([0.025, 0.975])\n",
    "for param in ['a_field', 'b_field', 's_a', 's_b', 's_y']:\n",
    "    mean_val = samples_df[param].median()\n",
    "    ci_low = quantile_pairs.loc[0.025, param]\n",
    "    ci_high = quantile_pairs.loc[0.975, param]\n",
    "    print(f\"{param}: median: {mean_val:.1f}, 95% CI: [{ci_low:.1f}, {ci_high:.1f}]\")"
   ]
  },
  {
   "cell_type": "code",
   "execution_count": 63,
   "id": "68a93766",
   "metadata": {},
   "outputs": [
    {
     "name": "stdout",
     "output_type": "stream",
     "text": [
      "a[1]: mean: 38.37, 95% CI: [35.15, 41.37]\n",
      "a[2]: mean: 33.50, 95% CI: [30.12, 36.95]\n",
      "a[3]: mean: 32.46, 95% CI: [25.45, 38.88]\n",
      "a[4]: mean: 47.97, 95% CI: [30.10, 80.83]\n",
      "b[1]: mean: 0.77, 95% CI: [0.59, 0.96]\n",
      "b[2]: mean: 1.94, 95% CI: [1.68, 2.19]\n",
      "b[3]: mean: 1.19, 95% CI: [0.88, 1.54]\n",
      "b[4]: mean: 0.99, 95% CI: [-0.34, 1.71]\n",
      "s_y: mean: 2.86, 95% CI: [2.21, 3.76]\n"
     ]
    }
   ],
   "source": [
    "quantile_pairs = samples_df[['a[1]', 'a[2]', 'a[3]', 'a[4]', 'b[1]', 'b[2]', 'b[3]', 'b[4]', 's_y']].quantile([0.025, 0.975])\n",
    "# print(quantile_pairs)\n",
    "for param in ['a[1]', 'a[2]', 'a[3]', 'a[4]', 'b[1]', 'b[2]', 'b[3]', 'b[4]', 's_y']:\n",
    "    mean_val = samples_df[param].mean()\n",
    "    ci_low = quantile_pairs.loc[0.025, param]\n",
    "    ci_high = quantile_pairs.loc[0.975, param]\n",
    "    print(f\"{param}: mean: {mean_val:.2f}, 95% CI: [{ci_low:.2f}, {ci_high:.2f}]\")"
   ]
  },
  {
   "cell_type": "markdown",
   "id": "231e5c98",
   "metadata": {},
   "source": [
    "---"
   ]
  },
  {
   "cell_type": "markdown",
   "id": "d4eaa997",
   "metadata": {},
   "source": [
    "Provide some proper priors to avoid divergent chain"
   ]
  },
  {
   "cell_type": "code",
   "execution_count": null,
   "id": "0c23c488",
   "metadata": {},
   "outputs": [
    {
     "name": "stdout",
     "output_type": "stream",
     "text": [
      "data {\n",
      "  int N;\n",
      "  int C;\n",
      "  vector[N] X;\n",
      "  vector[N] Y;\n",
      "  array[N] int<lower=1, upper=C> n2c;\n",
      "}\n",
      "\n",
      "parameters {\n",
      "  real a_field;\n",
      "  real b_field;\n",
      "  vector[C] a;\n",
      "  vector[C] b;\n",
      "  real<lower=0> s_a;\n",
      "  real<lower=0> s_b;\n",
      "  real<lower=0> s_y;\n",
      "}\n",
      "\n",
      "model {\n",
      "  a[1:C] ~ normal(a_field, s_a);\n",
      "  b[1:C] ~ normal(b_field, s_b);\n",
      "  Y[1:N] ~ normal(a[n2c] + b[n2c] .* X[1:N], s_y);\n",
      "}\n",
      "\n"
     ]
    }
   ],
   "source": [
    "# Hierarchical Model\n",
    "stan_file = 'model/model8-4.stan'\n",
    "with open(stan_file, 'r') as f:\n",
    "    print(f.read())"
   ]
  },
  {
   "cell_type": "code",
   "execution_count": 71,
   "id": "0c8b9584",
   "metadata": {},
   "outputs": [
    {
     "name": "stderr",
     "output_type": "stream",
     "text": [
      "14:54:50 - cmdstanpy - INFO - CmdStan start processing\n",
      "chain 1 |\u001b[33m          \u001b[0m| 00:00 Status\n",
      "\u001b[A\n",
      "\n",
      "\u001b[A\u001b[A\n",
      "chain 1 |\u001b[33m▉         \u001b[0m| 00:00 Iteration:    1 / 2000 [  0%]  (Warmup)\n",
      "\n",
      "\u001b[A\u001b[A\n",
      "chain 1 |\u001b[33m██▋       \u001b[0m| 00:00 Iteration:  400 / 2000 [ 20%]  (Warmup)\n",
      "\n",
      "\u001b[A\u001b[A\n",
      "chain 1 |\u001b[33m████▌     \u001b[0m| 00:00 Iteration:  800 / 2000 [ 40%]  (Warmup)\n",
      "\n",
      "\u001b[A\u001b[A\n",
      "chain 1 |\u001b[34m██████▎   \u001b[0m| 00:00 Iteration: 1100 / 2000 [ 55%]  (Sampling)\n",
      "\n",
      "\u001b[A\u001b[A\n",
      "chain 1 |\u001b[34m███████▋  \u001b[0m| 00:00 Iteration: 1400 / 2000 [ 70%]  (Sampling)\n",
      "\n",
      "chain 1 |\u001b[34m█████████ \u001b[0m| 00:00 Iteration: 1700 / 2000 [ 85%]  (Sampling)\n",
      "\u001b[A\n",
      "\u001b[A\n",
      "chain 1 |\u001b[34m██████████\u001b[0m| 00:02 Sampling completed                       \n",
      "chain 2 |\u001b[34m██████████\u001b[0m| 00:02 Sampling completed                       \n",
      "chain 3 |\u001b[34m██████████\u001b[0m| 00:01 Sampling completed                       \n",
      "chain 4 |\u001b[34m██████████\u001b[0m| 00:01 Sampling completed                       "
     ]
    },
    {
     "name": "stdout",
     "output_type": "stream",
     "text": [
      "                                                                                                                                                                                                                                                                                                                                "
     ]
    },
    {
     "name": "stderr",
     "output_type": "stream",
     "text": [
      "\n",
      "14:54:52 - cmdstanpy - INFO - CmdStan done processing.\n",
      "14:54:52 - cmdstanpy - WARNING - Some chains may have failed to converge.\n",
      "\tChain 1 had 2 divergent transitions (0.2%)\n",
      "\tChain 2 had 407 iterations at max treedepth (40.7%)\n",
      "\tUse the \"diagnose()\" method on the CmdStanMCMC object to see further information.\n"
     ]
    },
    {
     "name": "stdout",
     "output_type": "stream",
     "text": [
      "\n"
     ]
    }
   ],
   "source": [
    "# Prepare the Stan model\n",
    "stan_model = CmdStanModel(stan_file=stan_file)\n",
    "fit = stan_model.sample(data=stan_data, adapt_delta=0.999)\n",
    "samples_df = fit.draws_pd()"
   ]
  },
  {
   "cell_type": "code",
   "execution_count": 70,
   "id": "33119099",
   "metadata": {},
   "outputs": [
    {
     "name": "stdout",
     "output_type": "stream",
     "text": [
      "Checking sampler transitions treedepth.\n",
      "Treedepth satisfactory for all transitions.\n",
      "\n",
      "Checking sampler transitions for divergences.\n",
      "7 of 1000 (0.70%) transitions ended with a divergence.\n",
      "These divergent transitions indicate that HMC is not fully able to explore the posterior distribution.\n",
      "Try increasing adapt delta closer to 1.\n",
      "If this doesn't remove all divergences, try to reparameterize the model.\n",
      "\n",
      "Checking E-BFMI - sampler transitions HMC potential energy.\n",
      "E-BFMI satisfactory.\n",
      "\n",
      "Rank-normalized split effective sample size satisfactory for all parameters.\n",
      "\n",
      "Rank-normalized split R-hat values satisfactory for all parameters.\n",
      "\n",
      "Processing complete.\n",
      "\n"
     ]
    }
   ],
   "source": [
    "print(fit.diagnose())"
   ]
  },
  {
   "cell_type": "code",
   "execution_count": null,
   "id": "8d15e5c1",
   "metadata": {},
   "outputs": [
    {
     "name": "stdout",
     "output_type": "stream",
     "text": [
      "a_field: median: 36.7, 95% CI: [13.9, 60.7]\n",
      "b_field: median: 1.2, 95% CI: [-0.4, 2.8]\n",
      "s_a: median: 9.6, 95% CI: [1.4, 76.4]\n",
      "s_b: median: 0.8, 95% CI: [0.3, 4.6]\n",
      "s_y: median: 2.8, 95% CI: [2.2, 3.8]\n"
     ]
    }
   ],
   "source": [
    "quantile_pairs = samples_df[['a_field', 'b_field', 's_a', 's_b', 's_y']].quantile([0.025, 0.975])\n",
    "for param in ['a_field', 'b_field', 's_a', 's_b', 's_y']:\n",
    "    mean_val = samples_df[param].median()\n",
    "    ci_low = quantile_pairs.loc[0.025, param]\n",
    "    ci_high = quantile_pairs.loc[0.975, param]\n",
    "    print(f\"{param}: median: {mean_val:.1f}, 95% CI: [{ci_low:.1f}, {ci_high:.1f}]\")"
   ]
  },
  {
   "cell_type": "code",
   "execution_count": null,
   "id": "e6beaa13",
   "metadata": {},
   "outputs": [
    {
     "name": "stdout",
     "output_type": "stream",
     "text": [
      "a[1]: mean: 38.37, 95% CI: [35.15, 41.37]\n",
      "a[2]: mean: 33.50, 95% CI: [30.12, 36.95]\n",
      "a[3]: mean: 32.46, 95% CI: [25.45, 38.88]\n",
      "a[4]: mean: 47.97, 95% CI: [30.10, 80.83]\n",
      "b[1]: mean: 0.77, 95% CI: [0.59, 0.96]\n",
      "b[2]: mean: 1.94, 95% CI: [1.68, 2.19]\n",
      "b[3]: mean: 1.19, 95% CI: [0.88, 1.54]\n",
      "b[4]: mean: 0.99, 95% CI: [-0.34, 1.71]\n",
      "s_y: mean: 2.86, 95% CI: [2.21, 3.76]\n"
     ]
    }
   ],
   "source": [
    "quantile_pairs = samples_df[['a[1]', 'a[2]', 'a[3]', 'a[4]', 'b[1]', 'b[2]', 'b[3]', 'b[4]', 's_y']].quantile([0.025, 0.975])\n",
    "# print(quantile_pairs)\n",
    "for param in ['a[1]', 'a[2]', 'a[3]', 'a[4]', 'b[1]', 'b[2]', 'b[3]', 'b[4]', 's_y']:\n",
    "    mean_val = samples_df[param].mean()\n",
    "    ci_low = quantile_pairs.loc[0.025, param]\n",
    "    ci_high = quantile_pairs.loc[0.975, param]\n",
    "    print(f\"{param}: mean: {mean_val:.2f}, 95% CI: [{ci_low:.2f}, {ci_high:.2f}]\")"
   ]
  }
 ],
 "metadata": {
  "kernelspec": {
   "display_name": "Python 3",
   "language": "python",
   "name": "python3"
  },
  "language_info": {
   "codemirror_mode": {
    "name": "ipython",
    "version": 3
   },
   "file_extension": ".py",
   "mimetype": "text/x-python",
   "name": "python",
   "nbconvert_exporter": "python",
   "pygments_lexer": "ipython3",
   "version": "3.12.10"
  }
 },
 "nbformat": 4,
 "nbformat_minor": 5
}
